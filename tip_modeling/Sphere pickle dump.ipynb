{
 "cells": [
  {
   "cell_type": "markdown",
   "metadata": {
    "toc": true
   },
   "source": [
    "<h1>Table of Contents<span class=\"tocSkip\"></span></h1>\n",
    "<div class=\"toc\"><ul class=\"toc-item\"><li><span><a href=\"#Imports\" data-toc-modified-id=\"Imports-1\">Imports</a></span></li><li><span><a href=\"#electrostatic\" data-toc-modified-id=\"electrostatic-2\">electrostatic</a></span><ul class=\"toc-item\"><li><span><a href=\"#Calculate\" data-toc-modified-id=\"Calculate-2.1\">Calculate</a></span></li><li><span><a href=\"#Pickle-dump\" data-toc-modified-id=\"Pickle-dump-2.2\">Pickle dump</a></span></li></ul></li></ul></div>"
   ]
  },
  {
   "cell_type": "markdown",
   "metadata": {},
   "source": [
    "# Imports"
   ]
  },
  {
   "cell_type": "code",
   "execution_count": 1,
   "metadata": {},
   "outputs": [
    {
     "name": "stdout",
     "output_type": "stream",
     "text": [
      "<material_types.TabulatedMaterialFromFile.__init__>:\n",
      "\tLoading tabulated material data from file \"Bi2Se3_epsilon.pickle\"...\n",
      "<material_types.TabulatedMaterialFromFile.__init__>:\n",
      "\tLoading tabulated material data from file \"PMMA_epsilon.pickle\"...\n",
      "<material_types.TabulatedMaterialFromFile.__init__>:\n",
      "\tLoading tabulated material data from file \"sio2_300nm_extracted_epsilon_cone_A=2a.pickle\"...\n",
      "<material_types.TabulatedMaterialFromFile.__init__>:\n",
      "\tLoading tabulated material data from file \"TaS2_eps_230K.csv\"...\n",
      "<material_types.TabulatedMaterialFromFile.__init__>:\n",
      "\tLoading tabulated material data from file \"TaS2_eps_30K.csv\"...\n"
     ]
    },
    {
     "name": "stderr",
     "output_type": "stream",
     "text": [
      "/Users/leo/anaconda3/lib/python3.6/site-packages/common/baseclasses.py:473: FutureWarning: Using a non-tuple sequence for multidimensional indexing is deprecated; use `arr[tuple(seq)]` instead of `arr[seq]`. In the future this will be interpreted as an array index, `arr[np.array(seq)]`, which will result either in an error or a different result.\n",
      "  try: result=ndarray_operator(self,*args,**kwargs)\n",
      "/Users/leo/anaconda3/lib/python3.6/site-packages/common/baseclasses.py:482: FutureWarning: Using a non-tuple sequence for multidimensional indexing is deprecated; use `arr[tuple(seq)]` instead of `arr[seq]`. In the future this will be interpreted as an array index, `arr[np.array(seq)]`, which will result either in an error or a different result.\n",
      "  for axis_grid in axis_grids]\n"
     ]
    },
    {
     "name": "stdout",
     "output_type": "stream",
     "text": [
      "<material_types.TabulatedMaterialFromFile.__init__>:\n",
      "\tLoading tabulated material data from file \"Erik_BSTS_epsilon.pickle\"...\n",
      "<material_types.TabulatedMaterialFromFile.__init__>:\n",
      "\tLoading tabulated material data from file \"VO2_295K.csv\"...\n",
      "<material_types.TabulatedMaterialFromFile.__init__>:\n",
      "\tLoading tabulated material data from file \"VO2_360K.csv\"...\n",
      "<material_types.TabulatedMaterialFromFile.__init__>:\n",
      "\tLoading tabulated material data from file \"Stewart_V2O3film_insulating.csv\"...\n",
      "<material_types.TabulatedMaterialFromFile.__init__>:\n",
      "\tLoading tabulated material data from file \"Stewart_V2O3film_metallic.csv\"...\n",
      "<plotting>:\n",
      "\tRegistered colormaps \"Warm\" and \"Warm_r\"...\n",
      "<plotting>:\n",
      "\tRegistered colormaps \"vanheum\" and \"vanheum_r\"...\n",
      "<plotting>:\n",
      "\tRegistered colormaps \"NT-MDT\" and \"NT-MDT_r\"...\n",
      "<plotting>:\n",
      "\tRegistered colormaps \"rainbow\" and \"rainbow_r\"...\n",
      "<plotting>:\n",
      "\tRegistered colormaps \"jingdi\" and \"jingdi_r\"...\n",
      "<plotting>:\n",
      "\tRegistered colormaps \"Halcyon\" and \"Halcyon_r\"...\n",
      "<plotting>:\n",
      "\tRegistered colormaps \"Cold\" and \"Cold_r\"...\n",
      "<plotting>:\n",
      "\tRegistered colormaps \"Sky\" and \"Sky_r\"...\n",
      "<plotting>:\n",
      "\tRegistered colormaps \"Gwyddion.net\" and \"Gwyddion.net_r\"...\n",
      "<plotting>:\n",
      "\tRegistered colormaps \"BlueRed\" and \"BlueRed_r\"...\n",
      "<plotting>:\n",
      "\tRegistered colormaps \"vanheum3\" and \"vanheum3_r\"...\n",
      "<plotting>:\n",
      "\tRegistered colormaps \"vanheum2\" and \"vanheum2_r\"...\n"
     ]
    },
    {
     "data": {
      "text/plain": [
       "<module 'NearFieldOptics.PolarizationModels.azimuthal_charge' from '/Users/leo/anaconda3/lib/python3.6/site-packages/NearFieldOptics/PolarizationModels/azimuthal_charge.py'>"
      ]
     },
     "execution_count": 1,
     "metadata": {},
     "output_type": "execute_result"
    }
   ],
   "source": [
    "from matplotlib.pyplot import *\n",
    "import matplotlib.pyplot as plt\n",
    "from importlib import reload\n",
    "from common import baseclasses\n",
    "reload(baseclasses); AWA=baseclasses.AWA\n",
    "from TipEigenfields import ExpansionApproximation as EA\n",
    "from common import plotting\n",
    "import pickle\n",
    "reload(EA); reload(EA.tip); reload(EA.az)"
   ]
  },
  {
   "cell_type": "markdown",
   "metadata": {},
   "source": [
    "# electrostatic"
   ]
  },
  {
   "cell_type": "markdown",
   "metadata": {},
   "source": [
    "## Calculate"
   ]
  },
  {
   "cell_type": "code",
   "execution_count": 2,
   "metadata": {},
   "outputs": [
    {
     "name": "stderr",
     "output_type": "stream",
     "text": [
      "/Users/leo/anaconda3/lib/python3.6/site-packages/TipEigenfields/ExpansionApproximation.py:74: RuntimeWarning: divide by zero encountered in true_divide\n",
      "  Rs=-Es*Ls/alphas**2\n",
      "/Users/leo/anaconda3/lib/python3.6/site-packages/TipEigenfields/ExpansionApproximation.py:74: RuntimeWarning: overflow encountered in true_divide\n",
      "  Rs=-Es*Ls/alphas**2\n"
     ]
    }
   ],
   "source": [
    "#geometry and features of the probe\n",
    "a=1\n",
    "geometry='sphere' #options are 'hyperboloid', 'cone', 'ellipsoid','sphere'\n",
    "L=2*a\n",
    "load_freq=0 #in (cm-1), basically a small number, for quasi-electrostatic version of eigenfields\n",
    "skin_depth=0\n",
    "\n",
    "#settings for the eigenbasis calculation\n",
    "Nqs=244\n",
    "load_Nqs=244\n",
    "load_Nzs=244\n",
    "ztips = np.logspace(-1,1,12)*a    # range of tip-sample distance\n",
    "N=5     #number of eigenbasis\n",
    "Ezs=[];Vs=[]; Ers=[]; Ps=[]; Ds=[]; Rs=[]\n",
    "\n",
    "# empty array for appending later\n",
    "for n in np.arange(N)+1:\n",
    "    Ezs.append([])\n",
    "    Vs.append([])\n",
    "    Ers.append([])\n",
    "    Ps.append([])\n",
    "    Ds.append([])\n",
    "    Rs.append([])\n",
    "\n",
    "for ztip in ztips:\n",
    "    reload_eigenbasis=True #First time, we need to actually compute the eigenbasis\n",
    "    for n in np.arange(N)+1:\n",
    "        include_sample=False\n",
    "        rmax_fields=12*a\n",
    "        zmax_fields=a/100\n",
    "        xrange=rmax_fields\n",
    "        yrange=2*xrange+ztip\n",
    "\n",
    "        #Iterate over eigenvalue index (can in principle go to infinity) and plot each eigenfield\n",
    "        d=EA.EvaluateEigenfield(n=n,a=a,ztip=ztip,Nzs=2,Nrs=100,\\\n",
    "                                 zmin=zmax_fields/2,zmax=zmax_fields,rmax=rmax_fields,\\\n",
    "                                 from_sample=include_sample,beta=None,normalize=True,\n",
    "                                 load_freq=load_freq,L=L,geometry=geometry,skin_depth=skin_depth,\\\n",
    "                                 reload_eigenbasis=reload_eigenbasis,Nqs=Nqs,load_Nqs=load_Nqs,load_Nzs=load_Nzs)\n",
    "        reload_eigenbasis=False #We don't need to recompute eigenbasis in next rounds\n",
    "        \n",
    "        #save results\n",
    "        Ezs[n-1].append(d['Ez'])\n",
    "        Vs[n-1].append(d['potential'])\n",
    "        Ers[n-1].append(d['Er'])\n",
    "        Ps[n-1].append(d['eigenbasis']['Ps'][:N])\n",
    "        Rs[n-1].append(d['eigenbasis']['Rs'][:N])\n",
    "\n",
    "#convert items in dictionary to np array\n",
    "for n in np.arange(N):\n",
    "    Ezs[n] = np.array(Ezs[n])\n",
    "    Vs[n] = np.array(Vs[n])\n",
    "    Ers[n] = np.array(Ers[n])\n",
    "    Ps[n] = np.array(Ps[n])\n",
    "    Rs[n] = np.array(Rs[n])\n",
    "\n",
    "#keep the spatial axes information\n",
    "rs,zs=d['Ez'].axes\n",
    "axis_names=d['Ez'].axis_names    \n",
    "\n",
    "#convert list into AWA\n",
    "n_max = len(Ezs)\n",
    "eigen_axis = np.linspace(0,n_max-1,n_max)\n",
    "axis_names = ['eigen #','tip-sample distance (a)','radial distance (a)']\n",
    "P_AWA = AWA(Ps[0].T,axes=[eigen_axis,ztips],axis_names=axis_names[:2])\n",
    "R_AWA = AWA(Rs[0].T,axes=[eigen_axis,ztips],axis_names=axis_names[:2])\n",
    "Ez_AWA = AWA(np.array(Ezs)[:,:,:,0],axes=[eigen_axis,ztips,rs],axis_names=axis_names)\n",
    "Er_AWA = AWA(np.array(Ers)[:,:,:,0],axes=[eigen_axis,ztips,rs],axis_names=axis_names)\n",
    "V_AWA = AWA(np.array(Vs)[:,:,:,0],axes=[eigen_axis,ztips,rs],axis_names=axis_names)"
   ]
  },
  {
   "cell_type": "markdown",
   "metadata": {},
   "source": [
    "## Pickle dump"
   ]
  },
  {
   "cell_type": "code",
   "execution_count": 3,
   "metadata": {},
   "outputs": [],
   "source": [
    "result_dict={'P':P_AWA,'R':R_AWA,'V':V_AWA,'Ez':Ez_AWA,'Er':Er_AWA}"
   ]
  },
  {
   "cell_type": "code",
   "execution_count": 4,
   "metadata": {},
   "outputs": [],
   "source": [
    "with open(geometry+'_load_freq='+str(load_freq)+'.pickle', 'wb') as handle:\n",
    "    pickle.dump(result_dict, handle, protocol=pickle.HIGHEST_PROTOCOL)"
   ]
  },
  {
   "cell_type": "code",
   "execution_count": null,
   "metadata": {},
   "outputs": [],
   "source": []
  }
 ],
 "metadata": {
  "hide_input": false,
  "kernelspec": {
   "display_name": "Python 3",
   "language": "python",
   "name": "python3"
  },
  "language_info": {
   "codemirror_mode": {
    "name": "ipython",
    "version": 3
   },
   "file_extension": ".py",
   "mimetype": "text/x-python",
   "name": "python",
   "nbconvert_exporter": "python",
   "pygments_lexer": "ipython3",
   "version": "3.6.10"
  },
  "latex_envs": {
   "LaTeX_envs_menu_present": true,
   "autoclose": false,
   "autocomplete": true,
   "bibliofile": "biblio.bib",
   "cite_by": "apalike",
   "current_citInitial": 1,
   "eqLabelWithNumbers": true,
   "eqNumInitial": 1,
   "hotkeys": {
    "equation": "Ctrl-E",
    "itemize": "Ctrl-I"
   },
   "labels_anchors": false,
   "latex_user_defs": false,
   "report_style_numbering": false,
   "user_envs_cfg": false
  },
  "toc": {
   "base_numbering": 1,
   "nav_menu": {},
   "number_sections": false,
   "sideBar": true,
   "skip_h1_title": false,
   "title_cell": "Table of Contents",
   "title_sidebar": "Contents",
   "toc_cell": true,
   "toc_position": {
    "height": "calc(100% - 180px)",
    "left": "10px",
    "top": "150px",
    "width": "288px"
   },
   "toc_section_display": true,
   "toc_window_display": true
  }
 },
 "nbformat": 4,
 "nbformat_minor": 4
}
